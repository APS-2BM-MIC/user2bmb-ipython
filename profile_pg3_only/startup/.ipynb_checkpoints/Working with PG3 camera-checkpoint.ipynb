{
 "cells": [
  {
   "cell_type": "markdown",
   "metadata": {},
   "source": [
    "# Working with the Point Grey Grasshopper3 camera\n",
    "\n",
    "PV prefix: `2bmbPG3:`\n",
    "\n",
    "Documentation: http://cars.uchicago.edu/software/epics/PointGreyDoc.html"
   ]
  },
  {
   "cell_type": "markdown",
   "metadata": {},
   "source": [
    "## Setup\n",
    "\n",
    "Common Ophyd/BlueSky/DataBroker setup"
   ]
  },
  {
   "cell_type": "code",
   "execution_count": 1,
   "metadata": {},
   "outputs": [
    {
     "name": "stdout",
     "output_type": "stream",
     "text": [
      "Loading metadata history from /home/beams/USER2BMB/.config/bluesky/bluesky_history.db\n"
     ]
    }
   ],
   "source": [
    "import ophyd\n",
    "ophyd.setup_ophyd()\n",
    "\n",
    "from bluesky import RunEngine\n",
    "from bluesky.utils import get_history\n",
    "RE = RunEngine(get_history())\n",
    "\n",
    "from bluesky.callbacks import *\n",
    "from bluesky.plan_tools import print_summary\n",
    "import bluesky.plan_stubs as bps\n",
    "import bluesky.plans as bp\n",
    "from time import sleep\n",
    "import numpy as np\n",
    "import bluesky.magics\n",
    "from datetime import datetime\n",
    "\n",
    "from databroker import Broker\n",
    "db = Broker.named(\"mongodb_config\")\n",
    "RE.subscribe(db.insert)\n",
    "\n",
    "from bluesky import SupplementalData\n",
    "sd = SupplementalData()\n",
    "RE.preprocessors.append(sd)\n",
    "\n",
    "# At the end of every run, verify that files were saved and print a confirmation message.\n",
    "from bluesky.callbacks.broker import verify_files_saved"
   ]
  },
  {
   "cell_type": "markdown",
   "metadata": {},
   "source": [
    "Prepare for diagnostics, but leave them off for now."
   ]
  },
  {
   "cell_type": "code",
   "execution_count": 2,
   "metadata": {},
   "outputs": [],
   "source": [
    "# diagnostics\n",
    "from bluesky.utils import ts_msg_hook\n",
    "from bluesky.simulators import summarize_plan\n",
    "\n",
    "#RE.msg_hook = ts_msg_hook\n",
    "RE.msg_hook = None"
   ]
  },
  {
   "cell_type": "markdown",
   "metadata": {},
   "source": [
    "Watch the APS storage ring current, could demo this as metadata for BlueSky.  Print out its value now."
   ]
  },
  {
   "cell_type": "code",
   "execution_count": 3,
   "metadata": {},
   "outputs": [
    {
     "data": {
      "text/plain": [
       "-0.002831458528666682"
      ]
     },
     "execution_count": 3,
     "metadata": {},
     "output_type": "execute_result"
    }
   ],
   "source": [
    "aps_current = ophyd.EpicsSignalRO(\"S:SRcurrentAI\", name=\"aps_current\")\n",
    "aps_current.value"
   ]
  },
  {
   "cell_type": "markdown",
   "metadata": {},
   "source": [
    "Setup to use EPICS Area Detector and connect to our Point Grey IOC."
   ]
  },
  {
   "cell_type": "code",
   "execution_count": 4,
   "metadata": {},
   "outputs": [],
   "source": [
    "class MyPointGreyDetector(ophyd.SingleTrigger, ophyd.AreaDetector):\n",
    "    \"\"\"PointGrey Grasshopper3 detector as used by 2-BM-B tomography\"\"\"\n",
    "    \n",
    "    cam = ophyd.ADComponent(ophyd.PointGreyDetectorCam, \"cam1:\")\n",
    "    image = ophyd.ADComponent(ophyd.ImagePlugin, \"image1:\")\n",
    "    hdf1 = ophyd.ADComponent(ophyd.HDF5Plugin, \"HDF1:\")\n",
    "\n",
    "\n",
    "pg3_det = MyPointGreyDetector(\"2bmbPG3:\", name=\"pg3_det\")"
   ]
  },
  {
   "cell_type": "markdown",
   "metadata": {},
   "source": [
    "----"
   ]
  },
  {
   "cell_type": "markdown",
   "metadata": {},
   "source": [
    "## Working with `pg3_det`\n",
    "\n",
    "Get a summary of what the device will tell you."
   ]
  },
  {
   "cell_type": "code",
   "execution_count": 5,
   "metadata": {},
   "outputs": [
    {
     "name": "stdout",
     "output_type": "stream",
     "text": [
      "data keys (* hints)\n",
      "-------------------\n",
      "\n",
      "read attrs\n",
      "----------\n",
      "\n",
      "config keys\n",
      "-----------\n",
      "pg3_det_cam_acquire_period\n",
      "pg3_det_cam_acquire_time\n",
      "pg3_det_cam_image_mode\n",
      "pg3_det_cam_manufacturer\n",
      "pg3_det_cam_model\n",
      "pg3_det_cam_num_exposures\n",
      "pg3_det_cam_trigger_mode\n",
      "\n",
      "configuration attrs\n",
      "----------\n",
      "cam                  PointGreyDetectorCam('pg3_det_cam')\n",
      "\n",
      "Unused attrs\n",
      "------------\n",
      "configuration_names  ArrayAttributeSignal('pg3_det_configuration_names')\n",
      "image                ImagePlugin         ('pg3_det_image')\n",
      "hdf1                 HDF5Plugin          ('pg3_det_hdf1')\n"
     ]
    }
   ],
   "source": [
    "pg3_det.summary()"
   ]
  },
  {
   "cell_type": "markdown",
   "metadata": {},
   "source": [
    "The HDF5 Plugin is in use.  Where will it save our files?"
   ]
  },
  {
   "cell_type": "code",
   "execution_count": 6,
   "metadata": {},
   "outputs": [
    {
     "data": {
      "text/plain": [
       "'/local/data/tests/'"
      ]
     },
     "execution_count": 6,
     "metadata": {},
     "output_type": "execute_result"
    }
   ],
   "source": [
    "pg3_det.hdf1.file_path.value"
   ]
  },
  {
   "cell_type": "markdown",
   "metadata": {},
   "source": [
    "So, what does that directory look like now?"
   ]
  },
  {
   "cell_type": "code",
   "execution_count": 7,
   "metadata": {},
   "outputs": [
    {
     "name": "stdout",
     "output_type": "stream",
     "text": [
      "test_ag_006.h5\t test_fdc_003.h5  test_fdc_006.h5   test_prj_3928.h5\r\n",
      "test_fdc_001.h5  test_fdc_004.h5  test_fdc_007.h5\r\n",
      "test_fdc_002.h5  test_fdc_005.h5  test_prj_3927.h5\r\n"
     ]
    }
   ],
   "source": [
    "!ls /local/data/tests/"
   ]
  },
  {
   "cell_type": "markdown",
   "metadata": {},
   "source": [
    "What file name (and template) will be written?"
   ]
  },
  {
   "cell_type": "code",
   "execution_count": 8,
   "metadata": {},
   "outputs": [
    {
     "name": "stdout",
     "output_type": "stream",
     "text": [
      "test_prj \n",
      " %s%s_%3.3d.h5\n"
     ]
    }
   ],
   "source": [
    "print(pg3_det.hdf1.file_name.value, '\\n', pg3_det.hdf1.file_template.value)"
   ]
  },
  {
   "cell_type": "markdown",
   "metadata": {},
   "source": [
    "Take one image and show the name of the file that results."
   ]
  },
  {
   "cell_type": "code",
   "execution_count": 9,
   "metadata": {},
   "outputs": [
    {
     "data": {
      "text/plain": [
       "('8c4d8d88-7209-4256-92e5-57cf399c3e8f',)"
      ]
     },
     "execution_count": 9,
     "metadata": {},
     "output_type": "execute_result"
    }
   ],
   "source": [
    "RE(bp.count([pg3_det]))"
   ]
  },
  {
   "cell_type": "code",
   "execution_count": 10,
   "metadata": {},
   "outputs": [
    {
     "data": {
      "text/plain": [
       "'/local/data/tests/test_prj_3929.h5'"
      ]
     },
     "execution_count": 10,
     "metadata": {},
     "output_type": "execute_result"
    }
   ],
   "source": [
    "pg3_det.hdf1.full_file_name.value"
   ]
  },
  {
   "cell_type": "code",
   "execution_count": 11,
   "metadata": {},
   "outputs": [
    {
     "name": "stdout",
     "output_type": "stream",
     "text": [
      "test_ag_006.h5\t test_fdc_003.h5  test_fdc_006.h5   test_prj_3928.h5\r\n",
      "test_fdc_001.h5  test_fdc_004.h5  test_fdc_007.h5   test_prj_3929.h5\r\n",
      "test_fdc_002.h5  test_fdc_005.h5  test_prj_3927.h5\r\n"
     ]
    }
   ],
   "source": [
    "!ls /local/data/tests/"
   ]
  },
  {
   "cell_type": "markdown",
   "metadata": {},
   "source": [
    "What is in the HDF5 file?  It has the image data AND the metadata that was defined the attributes files supplied to area detector.  We need to use some tools that inspect the contents of HDF5 (binary) files.  One of the possible tools is `h5dump` which explains in way too much detail.  We have a couple custom tools provided by BCDA that show the structure of the file: `h5toText` and `punx`.  (They are almost identical in output, sharing some common code base.  Where one fails to read some files, the other succeeds.)"
   ]
  },
  {
   "cell_type": "code",
   "execution_count": 12,
   "metadata": {
    "scrolled": true
   },
   "outputs": [
    {
     "name": "stdout",
     "output_type": "stream",
     "text": [
      "/local/data/tests/test_prj_3928.h5\r\n",
      "  defaults\r\n",
      "    @hostname = lyra.xray.aps.anl.gov\r\n",
      "    ColorMode:int32 = 0\r\n",
      "      @NDAttrName = ColorMode\r\n",
      "      @NDAttrDescription = Color mode\r\n",
      "      @NDAttrSourceType = NDAttrSourceDriver\r\n",
      "      @NDAttrSource = Driver\r\n",
      "    NDArrayEpicsTSSec:uint32 = 894737956\r\n",
      "      @NDAttrName = NDArrayEpicsTSSec\r\n",
      "      @NDAttrDescription = The NDArray EPICS timestamp seconds past epoch\r\n",
      "      @NDAttrSourceType = NDAttrSourceDriver\r\n",
      "      @NDAttrSource = Driver\r\n",
      "    NDArrayEpicsTSnSec:uint32 = 74908954\r\n",
      "      @NDAttrName = NDArrayEpicsTSnSec\r\n",
      "      @NDAttrDescription = The NDArray EPICS timestamp nanoseconds\r\n",
      "      @NDAttrSourceType = NDAttrSourceDriver\r\n",
      "      @NDAttrSource = Driver\r\n",
      "    NDArrayTimeStamp:float64 = 1525889956.07\r\n",
      "      @NDAttrName = NDArrayTimeStamp\r\n",
      "      @NDAttrDescription = The timestamp of the NDArray as float64\r\n",
      "      @NDAttrSourceType = NDAttrSourceDriver\r\n",
      "      @NDAttrSource = Driver\r\n",
      "    NDArrayUniqueId:int32 = 1285941\r\n",
      "      @NDAttrName = NDArrayUniqueId\r\n",
      "      @NDAttrDescription = The unique ID of the NDArray\r\n",
      "      @NDAttrSourceType = NDAttrSourceDriver\r\n",
      "      @NDAttrSource = Driver\r\n",
      "    SaveDest:char[256] = Normal\r\n",
      "      @NDAttrName = SaveDest\r\n",
      "      @NDAttrSourceType = NDAttrSourceEPICSPV\r\n",
      "      @NDAttrSource = 2bmbPG3:cam1:FrameType\r\n",
      "    timestamp:float64[1,5] = __array\r\n",
      "      __array = [\r\n",
      "          [0.072297477999999998, 0.081477514000000001, 0.072340949000000002, 215.74203896304445, 242.98996962287569]\r\n",
      "        ]\r\n",
      "  exchange\r\n",
      "    data:uint8[1200,1920] = __array\r\n",
      "      __array = [\r\n",
      "          [134, 166, 90, '...', 113]\r\n",
      "          [122, 125, 121, '...', 116]\r\n",
      "          [120, 120, 100, '...', 117]\r\n",
      "          ...\r\n",
      "          [119, 109, 119, '...', 110]\r\n",
      "        ]\r\n",
      "      @NDArrayDimBinning = [1 1]\r\n",
      "      @NDArrayDimOffset = [0 0]\r\n",
      "      @NDArrayDimReverse = [0 0]\r\n",
      "      @NDArrayNumDims = 2\r\n",
      "      @axes = theta:y:x\r\n",
      "      @description = ImageData\r\n",
      "      @units = counts\r\n",
      "    data_dark:uint8[1200,1920] = __array\r\n",
      "      __array = [\r\n",
      "          [0, 0, 0, '...', 0]\r\n",
      "          [0, 0, 0, '...', 0]\r\n",
      "          [0, 0, 0, '...', 0]\r\n",
      "          ...\r\n",
      "          [0, 0, 0, '...', 0]\r\n",
      "        ]\r\n",
      "      @NDArrayDimBinning = [1 1]\r\n",
      "      @NDArrayDimOffset = [0 0]\r\n",
      "      @NDArrayDimReverse = [0 0]\r\n",
      "      @NDArrayNumDims = 2\r\n",
      "      @axes = theta:y:x\r\n",
      "      @description = DarkData\r\n",
      "      @units = counts\r\n",
      "    data_white:uint8[1200,1920] = __array\r\n",
      "      __array = [\r\n",
      "          [0, 0, 0, '...', 0]\r\n",
      "          [0, 0, 0, '...', 0]\r\n",
      "          [0, 0, 0, '...', 0]\r\n",
      "          ...\r\n",
      "          [0, 0, 0, '...', 0]\r\n",
      "        ]\r\n",
      "      @NDArrayDimBinning = [1 1]\r\n",
      "      @NDArrayDimOffset = [0 0]\r\n",
      "      @NDArrayDimReverse = [0 0]\r\n",
      "      @NDArrayNumDims = 2\r\n",
      "      @axes = theta:y:x\r\n",
      "      @description = WhiteData\r\n",
      "      @units = counts\r\n",
      "  measurement\r\n",
      "    instrument\r\n",
      "      name:char[36] = 2-BM-B micro-tomography MONA project\r\n",
      "      attenuator\r\n",
      "        name:char[14] = 2-BM-A filters\r\n",
      "        setup\r\n",
      "          user_filter_ds:float32 = nan\r\n",
      "            @units = mm\r\n",
      "            @NDAttrName = BeamlineFilterB\r\n",
      "            @NDAttrSourceType = NDAttrSourceEPICSPV\r\n",
      "            @NDAttrSource = 2bma:fltr2:select.VAL\r\n",
      "          user_filter_ds_legend:char[66] = 0: 600um Al; 1: 150um Al; 2:300um C; 3:50um C; 4:None; 5:LowLimit \r\n",
      "          user_filter_us:float32 = nan\r\n",
      "            @units = mm\r\n",
      "            @NDAttrName = BeamlineFilterA\r\n",
      "            @NDAttrSourceType = NDAttrSourceEPICSPV\r\n",
      "            @NDAttrSource = 2bma:fltr1:select.VAL\r\n",
      "          user_filter_us_legend:char[64] = 0: 1mm C; 1: 150um Al; 2:600um Al; 3:1mm Al; 4:None; 5:LowLimit \r\n",
      "      detector\r\n",
      "        acquisition_period:float64 = 0.0114715577625\r\n",
      "          @NDAttrName = AcqPeriod\r\n",
      "          @NDAttrSourceType = NDAttrSourceEPICSPV\r\n",
      "          @NDAttrSource = 2bmbPG3:cam1:AcquirePeriod\r\n",
      "        binning_x:int32 = 1\r\n",
      "          @NDAttrName = BinX\r\n",
      "          @NDAttrSourceType = NDAttrSourceEPICSPV\r\n",
      "          @NDAttrSource = 2bmbPG3:cam1:BinX\r\n",
      "        binning_y:int32 = 1\r\n",
      "          @NDAttrName = BinY\r\n",
      "          @NDAttrSourceType = NDAttrSourceEPICSPV\r\n",
      "          @NDAttrSource = 2bmbPG3:cam1:BinY\r\n",
      "        dimension_x:int32 = 1920\r\n",
      "          @NDAttrName = MaxSizeX\r\n",
      "          @NDAttrSourceType = NDAttrSourceEPICSPV\r\n",
      "          @NDAttrSource = 2bmbPG3:cam1:MaxSizeX_RBV\r\n",
      "        dimension_y:int32 = 1200\r\n",
      "          @NDAttrName = MaxSizeY\r\n",
      "          @NDAttrSourceType = NDAttrSourceEPICSPV\r\n",
      "          @NDAttrSource = 2bmbPG3:cam1:MaxSizeY_RBV\r\n",
      "        exposure_time:float64 = 0.07\r\n",
      "          @NDAttrName = AcqTime\r\n",
      "          @NDAttrSource = 2bmbPG3:cam1:AcquireTime\r\n",
      "          @NDAttrSourceType = NDAttrSourceEPICSPV\r\n",
      "        firmware_version:char[256] = 2.31.3.0\r\n",
      "          @NDAttrName = FirmwareVersion\r\n",
      "          @NDAttrSourceType = NDAttrSourceEPICSPV\r\n",
      "          @NDAttrSource = 2bmbPG3:cam1:FirmwareVersion\r\n",
      "        frame_mode:int16 = 0\r\n",
      "          @NDAttrName = DetectorFrameMode\r\n",
      "          @NDAttrSource = 2bmbPG3:cam1:FrameRateOnOff\r\n",
      "          @NDAttrSourceType = NDAttrSourceEPICSPV\r\n",
      "        frame_rate:float64 = 87.0754470825\r\n",
      "          @NDAttrName = FrameRate\r\n",
      "          @NDAttrSourceType = NDAttrSourceEPICSPV\r\n",
      "          @NDAttrSource = 2bmbPG3:cam1:FrameRateValAbs\r\n",
      "        gain:float64 = 0.0\r\n",
      "          @NDAttrName = Gain\r\n",
      "          @NDAttrSource = 2bmbPG3:cam1:Gain\r\n",
      "          @NDAttrSourceType = NDAttrSourceEPICSPV\r\n",
      "        manufacturer:char[256] = Point Grey Research\r\n",
      "          @NDAttrName = DetectorManufacturer\r\n",
      "          @NDAttrSourceType = NDAttrSourceEPICSPV\r\n",
      "          @NDAttrSource = 2bmbPG3:cam1:Manufacturer_RBV\r\n",
      "        model:char[256] = Grasshopper3 GS3-U3-23S6M\r\n",
      "          @NDAttrName = DetectorModel\r\n",
      "          @NDAttrSourceType = NDAttrSourceEPICSPV\r\n",
      "          @NDAttrSource = 2bmbPG3:cam1:Model_RBV\r\n",
      "        serial_number:char[256] = 16026090\r\n",
      "          @NDAttrName = SerialNumber\r\n",
      "          @NDAttrSourceType = NDAttrSourceEPICSPV\r\n",
      "          @NDAttrSource = 2bmbPG3:cam1:SerialNumber\r\n",
      "        software_version:char[256] = 2.9.3\r\n",
      "          @NDAttrName = SoftwareVersion\r\n",
      "          @NDAttrSourceType = NDAttrSourceEPICSPV\r\n",
      "          @NDAttrSource = 2bmbPG3:cam1:SoftwareVersion\r\n",
      "        roi\r\n",
      "          min_x:int32 = 0\r\n",
      "            @NDAttrName = MinX\r\n",
      "            @NDAttrSourceType = NDAttrSourceEPICSPV\r\n",
      "            @NDAttrSource = 2bmbPG3:cam1:MinX\r\n",
      "          min_y:int32 = 0\r\n",
      "            @NDAttrName = MinY\r\n",
      "            @NDAttrSourceType = NDAttrSourceEPICSPV\r\n",
      "            @NDAttrSource = 2bmbPG3:cam1:MinY\r\n",
      "          size_x:int32 = 1920\r\n",
      "            @NDAttrName = SizeX\r\n",
      "            @NDAttrSourceType = NDAttrSourceEPICSPV\r\n",
      "            @NDAttrSource = 2bmbPG3:cam1:SizeX\r\n",
      "          size_y:int32 = 1200\r\n",
      "            @NDAttrName = SizeY\r\n",
      "            @NDAttrSourceType = NDAttrSourceEPICSPV\r\n",
      "            @NDAttrSource = 2bmbPG3:cam1:SizeY\r\n",
      "      mirror\r\n",
      "        name:char[11] = 2-BM Mirror\r\n",
      "        setup\r\n",
      "          mirror_angle:float32 = nan\r\n",
      "            @units = mrad\r\n",
      "            @NDAttrName = MirrorAngle\r\n",
      "            @NDAttrSourceType = NDAttrSourceEPICSPV\r\n",
      "            @NDAttrSource = 2bma:M1t2.C\r\n",
      "          mirror_dsy:float32 = nan\r\n",
      "            @units = mm\r\n",
      "            @NDAttrName = MirrorDSY\r\n",
      "            @NDAttrSourceType = NDAttrSourceEPICSPV\r\n",
      "            @NDAttrSource = 2bma:m2.RBV\r\n",
      "          mirror_usy:float32 = nan\r\n",
      "            @units = mm\r\n",
      "            @NDAttrName = MirrorUSY\r\n",
      "            @NDAttrSourceType = NDAttrSourceEPICSPV\r\n",
      "            @NDAttrSource = 2bma:m5.RBV\r\n",
      "          mirror_x:float32 = nan\r\n",
      "            @units = mm\r\n",
      "            @NDAttrName = MirrorX\r\n",
      "            @NDAttrSourceType = NDAttrSourceEPICSPV\r\n",
      "            @NDAttrSource = 2bma:m3.RBV\r\n",
      "          mirror_y:float32 = nan\r\n",
      "            @units = mm\r\n",
      "            @NDAttrName = MirrorY\r\n",
      "            @NDAttrSourceType = NDAttrSourceEPICSPV\r\n",
      "            @NDAttrSource = 2bma:M1t2.D\r\n",
      "          stripe:float32 = nan\r\n",
      "            @NDAttrName = MirrorStripe\r\n",
      "            @NDAttrSource = 2bma:mirror1:select.VAL\r\n",
      "            @NDAttrSourceType = NDAttrSourceEPICSPV\r\n",
      "      monochromator\r\n",
      "        name:char[8] = 2-BM DMM\r\n",
      "        setup\r\n",
      "          dmm_ds_arm:float32 = nan\r\n",
      "            @units = degree\r\n",
      "            @NDAttrName = DMM_DSArm\r\n",
      "            @NDAttrSourceType = NDAttrSourceEPICSPV\r\n",
      "            @NDAttrSource = 2bma:m31.VAL\r\n",
      "          dmm_m2_y:float32 = nan\r\n",
      "            @units = mm\r\n",
      "            @NDAttrName = DMM_M2Y\r\n",
      "            @NDAttrSourceType = NDAttrSourceEPICSPV\r\n",
      "            @NDAttrSource = 2bma:m32.VAL\r\n",
      "          dmm_m2_z:float32 = nan\r\n",
      "            @units = mm\r\n",
      "            @NDAttrName = DMM_M2Z\r\n",
      "            @NDAttrSourceType = NDAttrSourceEPICSPV\r\n",
      "            @NDAttrSource = 2bma:m8.VAL\r\n",
      "          dmm_table_ds_y:float32 = nan\r\n",
      "            @units = mm\r\n",
      "            @NDAttrName = DMM_Table_DSY\r\n",
      "            @NDAttrSourceType = NDAttrSourceEPICSPV\r\n",
      "            @NDAttrSource = 2bma:m29.VAL\r\n",
      "          dmm_table_usy_ib:float32 = nan\r\n",
      "            @units = mm\r\n",
      "            @NDAttrName = DMM_Table_USY_IB\r\n",
      "            @NDAttrSourceType = NDAttrSourceEPICSPV\r\n",
      "            @NDAttrSource = 2bma:m27.VAL\r\n",
      "          dmm_table_usy_ob:float32 = nan\r\n",
      "            @units = mm\r\n",
      "            @NDAttrName = DMM_Table_USY_OB\r\n",
      "            @NDAttrSourceType = NDAttrSourceEPICSPV\r\n",
      "            @NDAttrSource = 2bma:m26.VAL\r\n",
      "          dmm_us_arm:float32 = nan\r\n",
      "            @units = degree\r\n",
      "            @NDAttrName = DMM_USArm\r\n",
      "            @NDAttrSourceType = NDAttrSourceEPICSPV\r\n",
      "            @NDAttrSource = 2bma:m30.VAL\r\n",
      "      sample\r\n",
      "        name:char[29] = microCT sample stages stack B\r\n",
      "        setup\r\n",
      "          rail_z:float32 = nan\r\n",
      "            @units = mm\r\n",
      "            @NDAttrName = RailZ\r\n",
      "            @NDAttrSourceType = NDAttrSourceEPICSPV\r\n",
      "            @NDAttrSource = 2bmb:m31.VAL\r\n",
      "          sample_rotary:float32 = nan\r\n",
      "            @units = mm\r\n",
      "            @NDAttrName = SampleRotary\r\n",
      "            @NDAttrSourceType = NDAttrSourceEPICSPV\r\n",
      "            @NDAttrSource = 2bmb:m100.VAL\r\n",
      "          sample_x:float32 = nan\r\n",
      "            @units = mm\r\n",
      "            @NDAttrName = SampleX\r\n",
      "            @NDAttrSourceType = NDAttrSourceEPICSPV\r\n",
      "            @NDAttrSource = 2bmb:m63.VAL\r\n",
      "          sample_xx:float32 = nan\r\n",
      "            @units = mm\r\n",
      "            @NDAttrName = SampleXX\r\n",
      "            @NDAttrSourceType = NDAttrSourceEPICSPV\r\n",
      "            @NDAttrSource = 2bmb:m77.VAL\r\n",
      "          sample_y:float32 = nan\r\n",
      "            @units = mm\r\n",
      "            @NDAttrName = SampleY\r\n",
      "            @NDAttrSourceType = NDAttrSourceEPICSPV\r\n",
      "            @NDAttrSource = 2bmb:m57.VAL\r\n",
      "          sample_zz:float32 = nan\r\n",
      "            @units = mm\r\n",
      "            @NDAttrName = SampleZZ\r\n",
      "            @NDAttrSourceType = NDAttrSourceEPICSPV\r\n",
      "            @NDAttrSource = 2bmb:m76.VAL\r\n",
      "      slits\r\n",
      "        name:char[5] = Slits\r\n",
      "        setup\r\n",
      "          hslits_ds_gap:float32 = nan\r\n",
      "            @units = mm\r\n",
      "            @NDAttrName = HSlitsDSGap\r\n",
      "            @NDAttrSourceType = NDAttrSourceEPICSPV\r\n",
      "            @NDAttrSource = 2bma:Slit2Hcenter.VAL\r\n",
      "          hslits_ds_size:float32 = nan\r\n",
      "            @units = mm\r\n",
      "            @NDAttrName = HSlitsDSSize\r\n",
      "            @NDAttrSourceType = NDAttrSourceEPICSPV\r\n",
      "            @NDAttrSource = 2bma:Slit2Hsize.VAL\r\n",
      "          hslits_us_gap:float32 = nan\r\n",
      "            @units = mm\r\n",
      "            @NDAttrName = HSlitsUSGap\r\n",
      "            @NDAttrSourceType = NDAttrSourceEPICSPV\r\n",
      "            @NDAttrSource = 2bma:Slit1Hcenter.VAL\r\n",
      "          hslits_us_size:float32 = nan\r\n",
      "            @units = mm\r\n",
      "            @NDAttrName = HSlitsUSSize\r\n",
      "            @NDAttrSourceType = NDAttrSourceEPICSPV\r\n",
      "            @NDAttrSource = 2bma:Slit1Hsize.VAL\r\n",
      "          vslits_ds_gap:float32 = nan\r\n",
      "            @units = mm\r\n",
      "            @NDAttrName = VSlitsDSGap\r\n",
      "            @NDAttrSourceType = NDAttrSourceEPICSPV\r\n",
      "            @NDAttrSource = 2bma:Slit2Vcenter.VAL\r\n",
      "          vslits_ds_size:float32 = nan\r\n",
      "            @units = mm\r\n",
      "            @NDAttrName = VSlitsDSSize\r\n",
      "            @NDAttrSourceType = NDAttrSourceEPICSPV\r\n",
      "            @NDAttrSource = 2bma:Slit2Vsize.VAL\r\n",
      "          vslits_us_gap:float32 = nan\r\n",
      "            @units = mm\r\n",
      "            @NDAttrName = VSlitsUSGap\r\n",
      "            @NDAttrSourceType = NDAttrSourceEPICSPV\r\n",
      "            @NDAttrSource = 2bma:Slit1Vcenter.VAL\r\n",
      "          vslits_us_size:float32 = nan\r\n",
      "            @units = mm\r\n",
      "            @NDAttrName = VSlitsUSSize\r\n",
      "            @NDAttrSourceType = NDAttrSourceEPICSPV\r\n",
      "            @NDAttrSource = 2bma:Slit1Vsize.VAL\r\n",
      "      source\r\n",
      "        beamline:char[4] = 2-BM\r\n",
      "        current:float64 = -0.00447594066867\r\n",
      "          @units = mA\r\n",
      "          @NDAttrName = Current\r\n",
      "          @NDAttrSourceType = NDAttrSourceEPICSPV\r\n",
      "          @NDAttrSource = S:SRcurrentAI\r\n",
      "        fill_mode:char[256] = \r\n",
      "          @NDAttrName = BeamMode\r\n",
      "          @NDAttrSourceType = NDAttrSourceEPICSPV\r\n",
      "          @NDAttrSource = OPS:message3\r\n",
      "        mode:int16 = 0\r\n",
      "          @NDAttrName = TopUpStatus\r\n",
      "          @NDAttrSourceType = NDAttrSourceEPICSPV\r\n",
      "          @NDAttrSource = S:TopUpStatus\r\n",
      "        name:char[22] = Advanced Photon Source\r\n",
      "      table\r\n",
      "        name:char[25] = 2-BM-B Experimental Table\r\n",
      "        setup\r\n",
      "          exp_table_dsx:float32 = nan\r\n",
      "            @units = mm\r\n",
      "            @NDAttrName = Exp_Table_DSX\r\n",
      "            @NDAttrSourceType = NDAttrSourceEPICSPV\r\n",
      "            @NDAttrSource = 2bmb:m8.VAL\r\n",
      "          exp_table_dsy:float32 = nan\r\n",
      "            @units = mm\r\n",
      "            @NDAttrName = Exp_Table_DSY\r\n",
      "            @NDAttrSourceType = NDAttrSourceEPICSPV\r\n",
      "            @NDAttrSource = 2bmb:m9.VAL\r\n",
      "          exp_table_usx:float32 = nan\r\n",
      "            @units = mm\r\n",
      "            @NDAttrName = Exp_Table_USX\r\n",
      "            @NDAttrSourceType = NDAttrSourceEPICSPV\r\n",
      "            @NDAttrSource = 2bmb:m5.VAL\r\n",
      "          exp_table_usy_ib:float32 = nan\r\n",
      "            @units = mm\r\n",
      "            @NDAttrName = Exp_Table_USY_IB\r\n",
      "            @NDAttrSourceType = NDAttrSourceEPICSPV\r\n",
      "            @NDAttrSource = 2bmb:m13.VAL\r\n",
      "          exp_table_usy_ob:float32 = nan\r\n",
      "            @units = mm\r\n",
      "            @NDAttrName = Exp_Table_USY_OB\r\n",
      "            @NDAttrSourceType = NDAttrSourceEPICSPV\r\n",
      "            @NDAttrSource = 2bmb:m7.VAL\r\n",
      "    sample\r\n",
      "      file_path:char[256] = /local/data/tests/\r\n",
      "        @NDAttrName = FilePath\r\n",
      "        @NDAttrSourceType = NDAttrSourceEPICSPV\r\n",
      "        @NDAttrSource = 2bmbPG3:HDF1:FilePath_RBV\r\n",
      "      name:char[256] = test_prj\r\n",
      "        @NDAttrName = SampleName\r\n",
      "        @NDAttrSourceType = NDAttrSourceEPICSPV\r\n",
      "        @NDAttrSource = 2bmbPG3:HDF1:FileName\r\n",
      "      experiment\r\n",
      "        proposal:float32 = nan\r\n",
      "          @NDAttrName = ProposalNumber\r\n",
      "          @NDAttrSourceType = NDAttrSourceEPICSPV\r\n",
      "          @NDAttrSource = 2bmS1:ProposalNumber\r\n",
      "        title:float32 = nan\r\n",
      "          @NDAttrName = ProposalTitle\r\n",
      "          @NDAttrSourceType = NDAttrSourceEPICSPV\r\n",
      "          @NDAttrSource = 2bmS1:ProposalTitle\r\n",
      "      experimenter\r\n",
      "        affiliation:float32 = nan\r\n",
      "          @NDAttrName = UserAffiliation\r\n",
      "          @NDAttrSourceType = NDAttrSourceEPICSPV\r\n",
      "          @NDAttrSource = 2bmS1:UserInstitution\r\n",
      "        email:float32 = nan\r\n",
      "          @NDAttrName = UserEmail\r\n",
      "          @NDAttrSourceType = NDAttrSourceEPICSPV\r\n",
      "          @NDAttrSource = 2bmS1:UserEmail\r\n",
      "        facility_user_id:float32 = nan\r\n",
      "          @NDAttrName = UserBadge\r\n",
      "          @NDAttrSourceType = NDAttrSourceEPICSPV\r\n",
      "          @NDAttrSource = 2bmS1:UserBadge\r\n",
      "        name:float32 = nan\r\n",
      "          @NDAttrName = UserName\r\n",
      "          @NDAttrSourceType = NDAttrSourceEPICSPV\r\n",
      "          @NDAttrSource = 2bmS1:UserName\r\n",
      "  process\r\n",
      "    acquisition\r\n",
      "      end_date:char[256] = May 09, 2018 13:19:15\r\n",
      "        @NDAttrName = DateTimeEnd\r\n",
      "        @NDAttrSourceType = NDAttrSourceEPICSPV\r\n",
      "        @NDAttrSource = S:IOC:timeOfDayForm1SI\r\n",
      "      start_date:char[256] = May 09, 2018 13:19:15\r\n",
      "        @NDAttrName = DateTimeStart\r\n",
      "        @NDAttrSourceType = NDAttrSourceEPICSPV\r\n",
      "        @NDAttrSource = S:IOC:timeOfDayForm1SI\r\n"
     ]
    }
   ],
   "source": [
    "!/APSshare/anaconda/x86_64/bin/h5toText /local/data/tests/test_prj_3928.h5"
   ]
  },
  {
   "cell_type": "code",
   "execution_count": 13,
   "metadata": {},
   "outputs": [
    {
     "name": "stdout",
     "output_type": "stream",
     "text": [
      "/local/data/tests/test_prj_3928.h5\r\n",
      "  defaults\r\n",
      "    @hostname = lyra.xray.aps.anl.gov\r\n",
      "    ColorMode:int32 = 0\r\n",
      "      @NDAttrName = ColorMode\r\n",
      "      @NDAttrDescription = Color mode\r\n",
      "      @NDAttrSourceType = NDAttrSourceDriver\r\n",
      "      @NDAttrSource = Driver\r\n",
      "    NDArrayEpicsTSSec:uint32 = 894737956\r\n",
      "      @NDAttrName = NDArrayEpicsTSSec\r\n",
      "      @NDAttrDescription = The NDArray EPICS timestamp seconds past epoch\r\n",
      "      @NDAttrSourceType = NDAttrSourceDriver\r\n",
      "      @NDAttrSource = Driver\r\n",
      "    NDArrayEpicsTSnSec:uint32 = 74908954\r\n",
      "      @NDAttrName = NDArrayEpicsTSnSec\r\n",
      "      @NDAttrDescription = The NDArray EPICS timestamp nanoseconds\r\n",
      "      @NDAttrSourceType = NDAttrSourceDriver\r\n",
      "      @NDAttrSource = Driver\r\n",
      "    NDArrayTimeStamp:float64 = 1525889956.07\r\n",
      "      @NDAttrName = NDArrayTimeStamp\r\n",
      "      @NDAttrDescription = The timestamp of the NDArray as float64\r\n",
      "      @NDAttrSourceType = NDAttrSourceDriver\r\n",
      "      @NDAttrSource = Driver\r\n",
      "    NDArrayUniqueId:int32 = 1285941\r\n",
      "      @NDAttrName = NDArrayUniqueId\r\n",
      "      @NDAttrDescription = The unique ID of the NDArray\r\n",
      "      @NDAttrSourceType = NDAttrSourceDriver\r\n",
      "      @NDAttrSource = Driver\r\n",
      "    SaveDest:char[256] = Normal\r\n",
      "      @NDAttrName = SaveDest\r\n",
      "      @NDAttrSourceType = NDAttrSourceEPICSPV\r\n",
      "      @NDAttrSource = 2bmbPG3:cam1:FrameType\r\n",
      "    timestamp:float64[1,5]\r\n",
      "  exchange\r\n",
      "    data:uint8[1200,1920]\r\n",
      "      @NDArrayDimBinning = 1\r\n",
      "      @NDArrayDimOffset = 0\r\n",
      "      @NDArrayDimReverse = 0\r\n",
      "      @NDArrayNumDims = 2\r\n",
      "      @axes = theta:y:x\r\n",
      "      @description = ImageData\r\n",
      "      @units = counts\r\n",
      "    data_dark:uint8[1200,1920]\r\n",
      "      @NDArrayDimBinning = 1\r\n",
      "      @NDArrayDimOffset = 0\r\n",
      "      @NDArrayDimReverse = 0\r\n",
      "      @NDArrayNumDims = 2\r\n",
      "      @axes = theta:y:x\r\n",
      "      @description = DarkData\r\n",
      "      @units = counts\r\n",
      "    data_white:uint8[1200,1920]\r\n",
      "      @NDArrayDimBinning = 1\r\n",
      "      @NDArrayDimOffset = 0\r\n",
      "      @NDArrayDimReverse = 0\r\n",
      "      @NDArrayNumDims = 2\r\n",
      "      @axes = theta:y:x\r\n",
      "      @description = WhiteData\r\n",
      "      @units = counts\r\n",
      "  measurement\r\n",
      "    instrument\r\n",
      "      name:char[36] = 2-BM-B micro-tomography MONA project\r\n",
      "      attenuator\r\n",
      "        name:char[14] = 2-BM-A filters\r\n",
      "        setup\r\n",
      "          user_filter_ds:float32 = nan\r\n",
      "            @units = mm\r\n",
      "            @NDAttrName = BeamlineFilterB\r\n",
      "            @NDAttrSourceType = NDAttrSourceEPICSPV\r\n",
      "            @NDAttrSource = 2bma:fltr2:select.VAL\r\n",
      "          user_filter_ds_legend:char[66] = 0: 600um Al; 1: 150um Al; 2:300um C; 3:50um C; 4:None; 5:LowLimit \r\n",
      "          user_filter_us:float32 = nan\r\n",
      "            @units = mm\r\n",
      "            @NDAttrName = BeamlineFilterA\r\n",
      "            @NDAttrSourceType = NDAttrSourceEPICSPV\r\n",
      "            @NDAttrSource = 2bma:fltr1:select.VAL\r\n",
      "          user_filter_us_legend:char[64] = 0: 1mm C; 1: 150um Al; 2:600um Al; 3:1mm Al; 4:None; 5:LowLimit \r\n",
      "      detector\r\n",
      "        acquisition_period:float64 = 0.0114715577625\r\n",
      "          @NDAttrName = AcqPeriod\r\n",
      "          @NDAttrSourceType = NDAttrSourceEPICSPV\r\n",
      "          @NDAttrSource = 2bmbPG3:cam1:AcquirePeriod\r\n",
      "        binning_x:int32 = 1\r\n",
      "          @NDAttrName = BinX\r\n",
      "          @NDAttrSourceType = NDAttrSourceEPICSPV\r\n",
      "          @NDAttrSource = 2bmbPG3:cam1:BinX\r\n",
      "        binning_y:int32 = 1\r\n",
      "          @NDAttrName = BinY\r\n",
      "          @NDAttrSourceType = NDAttrSourceEPICSPV\r\n",
      "          @NDAttrSource = 2bmbPG3:cam1:BinY\r\n",
      "        dimension_x:int32 = 1920\r\n",
      "          @NDAttrName = MaxSizeX\r\n",
      "          @NDAttrSourceType = NDAttrSourceEPICSPV\r\n",
      "          @NDAttrSource = 2bmbPG3:cam1:MaxSizeX_RBV\r\n",
      "        dimension_y:int32 = 1200\r\n",
      "          @NDAttrName = MaxSizeY\r\n",
      "          @NDAttrSourceType = NDAttrSourceEPICSPV\r\n",
      "          @NDAttrSource = 2bmbPG3:cam1:MaxSizeY_RBV\r\n",
      "        exposure_time:float64 = 0.07\r\n",
      "          @NDAttrName = AcqTime\r\n",
      "          @NDAttrSource = 2bmbPG3:cam1:AcquireTime\r\n",
      "          @NDAttrSourceType = NDAttrSourceEPICSPV\r\n",
      "        firmware_version:char[256] = 2.31.3.0\r\n",
      "          @NDAttrName = FirmwareVersion\r\n",
      "          @NDAttrSourceType = NDAttrSourceEPICSPV\r\n",
      "          @NDAttrSource = 2bmbPG3:cam1:FirmwareVersion\r\n",
      "        frame_mode:int16 = 0\r\n",
      "          @NDAttrName = DetectorFrameMode\r\n",
      "          @NDAttrSource = 2bmbPG3:cam1:FrameRateOnOff\r\n",
      "          @NDAttrSourceType = NDAttrSourceEPICSPV\r\n",
      "        frame_rate:float64 = 87.0754470825\r\n",
      "          @NDAttrName = FrameRate\r\n",
      "          @NDAttrSourceType = NDAttrSourceEPICSPV\r\n",
      "          @NDAttrSource = 2bmbPG3:cam1:FrameRateValAbs\r\n",
      "        gain:float64 = 0.0\r\n",
      "          @NDAttrName = Gain\r\n",
      "          @NDAttrSource = 2bmbPG3:cam1:Gain\r\n",
      "          @NDAttrSourceType = NDAttrSourceEPICSPV\r\n",
      "        manufacturer:char[256] = Point Grey Research\r\n",
      "          @NDAttrName = DetectorManufacturer\r\n",
      "          @NDAttrSourceType = NDAttrSourceEPICSPV\r\n",
      "          @NDAttrSource = 2bmbPG3:cam1:Manufacturer_RBV\r\n",
      "        model:char[256] = Grasshopper3 GS3-U3-23S6M\r\n",
      "          @NDAttrName = DetectorModel\r\n",
      "          @NDAttrSourceType = NDAttrSourceEPICSPV\r\n",
      "          @NDAttrSource = 2bmbPG3:cam1:Model_RBV\r\n",
      "        serial_number:char[256] = 16026090\r\n",
      "          @NDAttrName = SerialNumber\r\n",
      "          @NDAttrSourceType = NDAttrSourceEPICSPV\r\n",
      "          @NDAttrSource = 2bmbPG3:cam1:SerialNumber\r\n",
      "        software_version:char[256] = 2.9.3\r\n",
      "          @NDAttrName = SoftwareVersion\r\n",
      "          @NDAttrSourceType = NDAttrSourceEPICSPV\r\n",
      "          @NDAttrSource = 2bmbPG3:cam1:SoftwareVersion\r\n",
      "        roi\r\n",
      "          min_x:int32 = 0\r\n",
      "            @NDAttrName = MinX\r\n",
      "            @NDAttrSourceType = NDAttrSourceEPICSPV\r\n",
      "            @NDAttrSource = 2bmbPG3:cam1:MinX\r\n",
      "          min_y:int32 = 0\r\n",
      "            @NDAttrName = MinY\r\n",
      "            @NDAttrSourceType = NDAttrSourceEPICSPV\r\n",
      "            @NDAttrSource = 2bmbPG3:cam1:MinY\r\n",
      "          size_x:int32 = 1920\r\n",
      "            @NDAttrName = SizeX\r\n",
      "            @NDAttrSourceType = NDAttrSourceEPICSPV\r\n",
      "            @NDAttrSource = 2bmbPG3:cam1:SizeX\r\n",
      "          size_y:int32 = 1200\r\n",
      "            @NDAttrName = SizeY\r\n",
      "            @NDAttrSourceType = NDAttrSourceEPICSPV\r\n",
      "            @NDAttrSource = 2bmbPG3:cam1:SizeY\r\n",
      "      mirror\r\n",
      "        name:char[11] = 2-BM Mirror\r\n",
      "        setup\r\n",
      "          mirror_angle:float32 = nan\r\n",
      "            @units = mrad\r\n",
      "            @NDAttrName = MirrorAngle\r\n",
      "            @NDAttrSourceType = NDAttrSourceEPICSPV\r\n",
      "            @NDAttrSource = 2bma:M1t2.C\r\n",
      "          mirror_dsy:float32 = nan\r\n",
      "            @units = mm\r\n",
      "            @NDAttrName = MirrorDSY\r\n",
      "            @NDAttrSourceType = NDAttrSourceEPICSPV\r\n",
      "            @NDAttrSource = 2bma:m2.RBV\r\n",
      "          mirror_usy:float32 = nan\r\n",
      "            @units = mm\r\n",
      "            @NDAttrName = MirrorUSY\r\n",
      "            @NDAttrSourceType = NDAttrSourceEPICSPV\r\n",
      "            @NDAttrSource = 2bma:m5.RBV\r\n",
      "          mirror_x:float32 = nan\r\n",
      "            @units = mm\r\n",
      "            @NDAttrName = MirrorX\r\n",
      "            @NDAttrSourceType = NDAttrSourceEPICSPV\r\n",
      "            @NDAttrSource = 2bma:m3.RBV\r\n",
      "          mirror_y:float32 = nan\r\n",
      "            @units = mm\r\n",
      "            @NDAttrName = MirrorY\r\n",
      "            @NDAttrSourceType = NDAttrSourceEPICSPV\r\n",
      "            @NDAttrSource = 2bma:M1t2.D\r\n",
      "          stripe:float32 = nan\r\n",
      "            @NDAttrName = MirrorStripe\r\n",
      "            @NDAttrSource = 2bma:mirror1:select.VAL\r\n",
      "            @NDAttrSourceType = NDAttrSourceEPICSPV\r\n",
      "      monochromator\r\n",
      "        name:char[8] = 2-BM DMM\r\n",
      "        setup\r\n",
      "          dmm_ds_arm:float32 = nan\r\n",
      "            @units = degree\r\n",
      "            @NDAttrName = DMM_DSArm\r\n",
      "            @NDAttrSourceType = NDAttrSourceEPICSPV\r\n",
      "            @NDAttrSource = 2bma:m31.VAL\r\n",
      "          dmm_m2_y:float32 = nan\r\n",
      "            @units = mm\r\n",
      "            @NDAttrName = DMM_M2Y\r\n",
      "            @NDAttrSourceType = NDAttrSourceEPICSPV\r\n",
      "            @NDAttrSource = 2bma:m32.VAL\r\n",
      "          dmm_m2_z:float32 = nan\r\n",
      "            @units = mm\r\n",
      "            @NDAttrName = DMM_M2Z\r\n",
      "            @NDAttrSourceType = NDAttrSourceEPICSPV\r\n",
      "            @NDAttrSource = 2bma:m8.VAL\r\n",
      "          dmm_table_ds_y:float32 = nan\r\n",
      "            @units = mm\r\n",
      "            @NDAttrName = DMM_Table_DSY\r\n",
      "            @NDAttrSourceType = NDAttrSourceEPICSPV\r\n",
      "            @NDAttrSource = 2bma:m29.VAL\r\n",
      "          dmm_table_usy_ib:float32 = nan\r\n",
      "            @units = mm\r\n",
      "            @NDAttrName = DMM_Table_USY_IB\r\n",
      "            @NDAttrSourceType = NDAttrSourceEPICSPV\r\n",
      "            @NDAttrSource = 2bma:m27.VAL\r\n",
      "          dmm_table_usy_ob:float32 = nan\r\n",
      "            @units = mm\r\n",
      "            @NDAttrName = DMM_Table_USY_OB\r\n",
      "            @NDAttrSourceType = NDAttrSourceEPICSPV\r\n",
      "            @NDAttrSource = 2bma:m26.VAL\r\n",
      "          dmm_us_arm:float32 = nan\r\n",
      "            @units = degree\r\n",
      "            @NDAttrName = DMM_USArm\r\n",
      "            @NDAttrSourceType = NDAttrSourceEPICSPV\r\n",
      "            @NDAttrSource = 2bma:m30.VAL\r\n",
      "      sample\r\n",
      "        name:char[29] = microCT sample stages stack B\r\n",
      "        setup\r\n",
      "          rail_z:float32 = nan\r\n",
      "            @units = mm\r\n",
      "            @NDAttrName = RailZ\r\n",
      "            @NDAttrSourceType = NDAttrSourceEPICSPV\r\n",
      "            @NDAttrSource = 2bmb:m31.VAL\r\n",
      "          sample_rotary:float32 = nan\r\n",
      "            @units = mm\r\n",
      "            @NDAttrName = SampleRotary\r\n",
      "            @NDAttrSourceType = NDAttrSourceEPICSPV\r\n",
      "            @NDAttrSource = 2bmb:m100.VAL\r\n",
      "          sample_x:float32 = nan\r\n",
      "            @units = mm\r\n",
      "            @NDAttrName = SampleX\r\n",
      "            @NDAttrSourceType = NDAttrSourceEPICSPV\r\n",
      "            @NDAttrSource = 2bmb:m63.VAL\r\n",
      "          sample_xx:float32 = nan\r\n",
      "            @units = mm\r\n",
      "            @NDAttrName = SampleXX\r\n",
      "            @NDAttrSourceType = NDAttrSourceEPICSPV\r\n",
      "            @NDAttrSource = 2bmb:m77.VAL\r\n",
      "          sample_y:float32 = nan\r\n",
      "            @units = mm\r\n",
      "            @NDAttrName = SampleY\r\n",
      "            @NDAttrSourceType = NDAttrSourceEPICSPV\r\n",
      "            @NDAttrSource = 2bmb:m57.VAL\r\n",
      "          sample_zz:float32 = nan\r\n",
      "            @units = mm\r\n",
      "            @NDAttrName = SampleZZ\r\n",
      "            @NDAttrSourceType = NDAttrSourceEPICSPV\r\n",
      "            @NDAttrSource = 2bmb:m76.VAL\r\n",
      "      slits\r\n",
      "        name:char[5] = Slits\r\n",
      "        setup\r\n",
      "          hslits_ds_gap:float32 = nan\r\n",
      "            @units = mm\r\n",
      "            @NDAttrName = HSlitsDSGap\r\n",
      "            @NDAttrSourceType = NDAttrSourceEPICSPV\r\n",
      "            @NDAttrSource = 2bma:Slit2Hcenter.VAL\r\n",
      "          hslits_ds_size:float32 = nan\r\n",
      "            @units = mm\r\n",
      "            @NDAttrName = HSlitsDSSize\r\n",
      "            @NDAttrSourceType = NDAttrSourceEPICSPV\r\n",
      "            @NDAttrSource = 2bma:Slit2Hsize.VAL\r\n",
      "          hslits_us_gap:float32 = nan\r\n",
      "            @units = mm\r\n",
      "            @NDAttrName = HSlitsUSGap\r\n",
      "            @NDAttrSourceType = NDAttrSourceEPICSPV\r\n",
      "            @NDAttrSource = 2bma:Slit1Hcenter.VAL\r\n",
      "          hslits_us_size:float32 = nan\r\n",
      "            @units = mm\r\n",
      "            @NDAttrName = HSlitsUSSize\r\n",
      "            @NDAttrSourceType = NDAttrSourceEPICSPV\r\n",
      "            @NDAttrSource = 2bma:Slit1Hsize.VAL\r\n",
      "          vslits_ds_gap:float32 = nan\r\n",
      "            @units = mm\r\n",
      "            @NDAttrName = VSlitsDSGap\r\n",
      "            @NDAttrSourceType = NDAttrSourceEPICSPV\r\n",
      "            @NDAttrSource = 2bma:Slit2Vcenter.VAL\r\n",
      "          vslits_ds_size:float32 = nan\r\n",
      "            @units = mm\r\n",
      "            @NDAttrName = VSlitsDSSize\r\n",
      "            @NDAttrSourceType = NDAttrSourceEPICSPV\r\n",
      "            @NDAttrSource = 2bma:Slit2Vsize.VAL\r\n",
      "          vslits_us_gap:float32 = nan\r\n",
      "            @units = mm\r\n",
      "            @NDAttrName = VSlitsUSGap\r\n",
      "            @NDAttrSourceType = NDAttrSourceEPICSPV\r\n",
      "            @NDAttrSource = 2bma:Slit1Vcenter.VAL\r\n",
      "          vslits_us_size:float32 = nan\r\n",
      "            @units = mm\r\n",
      "            @NDAttrName = VSlitsUSSize\r\n",
      "            @NDAttrSourceType = NDAttrSourceEPICSPV\r\n",
      "            @NDAttrSource = 2bma:Slit1Vsize.VAL\r\n",
      "      source\r\n",
      "        beamline:char[4] = 2-BM\r\n",
      "        current:float64 = -0.00447594066867\r\n",
      "          @units = mA\r\n",
      "          @NDAttrName = Current\r\n",
      "          @NDAttrSourceType = NDAttrSourceEPICSPV\r\n",
      "          @NDAttrSource = S:SRcurrentAI\r\n",
      "        fill_mode:char[256] = \r\n",
      "          @NDAttrName = BeamMode\r\n",
      "          @NDAttrSourceType = NDAttrSourceEPICSPV\r\n",
      "          @NDAttrSource = OPS:message3\r\n",
      "        mode:int16 = 0\r\n",
      "          @NDAttrName = TopUpStatus\r\n",
      "          @NDAttrSourceType = NDAttrSourceEPICSPV\r\n",
      "          @NDAttrSource = S:TopUpStatus\r\n",
      "        name:char[22] = Advanced Photon Source\r\n",
      "      table\r\n",
      "        name:char[25] = 2-BM-B Experimental Table\r\n",
      "        setup\r\n",
      "          exp_table_dsx:float32 = nan\r\n",
      "            @units = mm\r\n",
      "            @NDAttrName = Exp_Table_DSX\r\n",
      "            @NDAttrSourceType = NDAttrSourceEPICSPV\r\n",
      "            @NDAttrSource = 2bmb:m8.VAL\r\n",
      "          exp_table_dsy:float32 = nan\r\n",
      "            @units = mm\r\n",
      "            @NDAttrName = Exp_Table_DSY\r\n",
      "            @NDAttrSourceType = NDAttrSourceEPICSPV\r\n",
      "            @NDAttrSource = 2bmb:m9.VAL\r\n",
      "          exp_table_usx:float32 = nan\r\n",
      "            @units = mm\r\n",
      "            @NDAttrName = Exp_Table_USX\r\n",
      "            @NDAttrSourceType = NDAttrSourceEPICSPV\r\n",
      "            @NDAttrSource = 2bmb:m5.VAL\r\n",
      "          exp_table_usy_ib:float32 = nan\r\n",
      "            @units = mm\r\n",
      "            @NDAttrName = Exp_Table_USY_IB\r\n",
      "            @NDAttrSourceType = NDAttrSourceEPICSPV\r\n",
      "            @NDAttrSource = 2bmb:m13.VAL\r\n",
      "          exp_table_usy_ob:float32 = nan\r\n",
      "            @units = mm\r\n",
      "            @NDAttrName = Exp_Table_USY_OB\r\n",
      "            @NDAttrSourceType = NDAttrSourceEPICSPV\r\n",
      "            @NDAttrSource = 2bmb:m7.VAL\r\n",
      "    sample\r\n",
      "      file_path:char[256] = /local/data/tests/\r\n",
      "        @NDAttrName = FilePath\r\n",
      "        @NDAttrSourceType = NDAttrSourceEPICSPV\r\n",
      "        @NDAttrSource = 2bmbPG3:HDF1:FilePath_RBV\r\n",
      "      name:char[256] = test_prj\r\n",
      "        @NDAttrName = SampleName\r\n",
      "        @NDAttrSourceType = NDAttrSourceEPICSPV\r\n",
      "        @NDAttrSource = 2bmbPG3:HDF1:FileName\r\n",
      "      experiment\r\n",
      "        proposal:float32 = nan\r\n",
      "          @NDAttrName = ProposalNumber\r\n",
      "          @NDAttrSourceType = NDAttrSourceEPICSPV\r\n",
      "          @NDAttrSource = 2bmS1:ProposalNumber\r\n",
      "        title:float32 = nan\r\n",
      "          @NDAttrName = ProposalTitle\r\n",
      "          @NDAttrSourceType = NDAttrSourceEPICSPV\r\n",
      "          @NDAttrSource = 2bmS1:ProposalTitle\r\n",
      "      experimenter\r\n",
      "        affiliation:float32 = nan\r\n",
      "          @NDAttrName = UserAffiliation\r\n",
      "          @NDAttrSourceType = NDAttrSourceEPICSPV\r\n",
      "          @NDAttrSource = 2bmS1:UserInstitution\r\n",
      "        email:float32 = nan\r\n",
      "          @NDAttrName = UserEmail\r\n",
      "          @NDAttrSourceType = NDAttrSourceEPICSPV\r\n",
      "          @NDAttrSource = 2bmS1:UserEmail\r\n",
      "        facility_user_id:float32 = nan\r\n",
      "          @NDAttrName = UserBadge\r\n",
      "          @NDAttrSourceType = NDAttrSourceEPICSPV\r\n",
      "          @NDAttrSource = 2bmS1:UserBadge\r\n",
      "        name:float32 = nan\r\n",
      "          @NDAttrName = UserName\r\n",
      "          @NDAttrSourceType = NDAttrSourceEPICSPV\r\n",
      "          @NDAttrSource = 2bmS1:UserName\r\n",
      "  process\r\n",
      "    acquisition\r\n",
      "      end_date:char[256] = May 09, 2018 13:19:15\r\n",
      "        @NDAttrName = DateTimeEnd\r\n",
      "        @NDAttrSourceType = NDAttrSourceEPICSPV\r\n",
      "        @NDAttrSource = S:IOC:timeOfDayForm1SI\r\n",
      "      start_date:char[256] = May 09, 2018 13:19:15\r\n",
      "        @NDAttrName = DateTimeStart\r\n",
      "        @NDAttrSourceType = NDAttrSourceEPICSPV\r\n",
      "        @NDAttrSource = S:IOC:timeOfDayForm1SI\r\n"
     ]
    }
   ],
   "source": [
    "!/APSshare/anaconda/x86_64/bin/punx st /local/data/tests/test_prj_3928.h5"
   ]
  },
  {
   "cell_type": "markdown",
   "metadata": {},
   "source": [
    "The image data is located at HDF5 address `/exchange/data`.  It is an array of `uint8[1200,1920]`.  There is a lot of other user metadata (as configured in the attributes XML files for area detector)."
   ]
  },
  {
   "cell_type": "markdown",
   "metadata": {},
   "source": [
    "----"
   ]
  },
  {
   "cell_type": "markdown",
   "metadata": {},
   "source": [
    "## Support the EPICS Area Detector PVaccess plugin\n",
    "\n",
    "The Area Detector support in ophyd is not aware of the PVaccess protocols.  At this time, the PVA plugin is not disabled when the area detector is acquiring during execution of a BlueSky plan.  We'll create a basic ophyd plugin in case we need one.  (This shows how to make such a basic plugin.)  We'll need to make a new instance of `pg3_det` to pick up this new version of `MyPointGreyDetector()`."
   ]
  },
  {
   "cell_type": "code",
   "execution_count": 16,
   "metadata": {},
   "outputs": [],
   "source": [
    "import ophyd.areadetector.plugins\n",
    "\n",
    "class MyPvaPlugin(ophyd.areadetector.plugins.PluginBase):\n",
    "    \"\"\"PVA plugin (not in ophyd)\"\"\"\n",
    "    _default_suffix = 'EDGEDSC:'\n",
    "    _suffix_re = 'pva\\d:'\n",
    "    _html_docs = ['unconfigured.html']\n",
    "    _plugin_type = 'NDPluginPva'\n",
    "    pva_image_pv_name = ophyd.ADComponent(ophyd.EpicsSignalRO, \"PvName_RBV\")\n",
    "\n",
    "class MyPointGreyDetector(ophyd.SingleTrigger, ophyd.AreaDetector):\n",
    "    \"\"\"PointGrey Grasshopper3 detector as used by 2-BM-B tomography\"\"\"\n",
    "    \n",
    "    cam = ophyd.ADComponent(ophyd.PointGreyDetectorCam, \"cam1:\")\n",
    "    image = ophyd.ADComponent(ophyd.ImagePlugin, \"image1:\")\n",
    "    hdf1 = ophyd.ADComponent(ophyd.HDF5Plugin, \"HDF1:\")\n",
    "    pva1 = ophyd.ADComponent(MyPvaPlugin, \"Pva1:\")\n",
    "\n",
    "\n",
    "pg3_det = MyPointGreyDetector(\"2bmbPG3:\", name=\"pg3_det\")"
   ]
  },
  {
   "cell_type": "markdown",
   "metadata": {},
   "source": [
    "----"
   ]
  },
  {
   "cell_type": "markdown",
   "metadata": {},
   "source": [
    "Switch the diagnostics on now"
   ]
  },
  {
   "cell_type": "code",
   "execution_count": 17,
   "metadata": {},
   "outputs": [
    {
     "name": "stdout",
     "output_type": "stream",
     "text": [
      "13:05:38 stage             -> pg3_det         args: (), kwargs: {}\n",
      "13:05:39 open_run          -> None            args: (), kwargs: {'detectors': ['pg3_det'], 'num_points': 1, 'num_intervals': 0, 'plan_args': {'detectors': [\"MyPointGreyDetector(prefix='2bmbPG3:', name='pg3_det', read_attrs=[], configuration_attrs=['cam'])\"], 'num': 1}, 'plan_name': 'count', 'hints': {'dimensions': [(('time',), 'primary')]}}\n",
      "13:05:39 checkpoint        -> None            args: (), kwargs: {}\n",
      "13:05:39 trigger           -> pg3_det         args: (), kwargs: {'group': 'trigger-50134c'}\n",
      "13:05:39 wait              -> None            args: (), kwargs: {'group': 'trigger-50134c'}\n",
      "13:05:39 create            -> None            args: (), kwargs: {'name': 'primary'}\n",
      "13:05:39 read              -> pg3_det         args: (), kwargs: {}\n",
      "13:05:39 save              -> None            args: (), kwargs: {}\n",
      "13:05:39 close_run         -> None            args: (), kwargs: {'exit_status': None, 'reason': None}\n",
      "13:05:39 unstage           -> pg3_det         args: (), kwargs: {}\n"
     ]
    },
    {
     "data": {
      "text/plain": [
       "('e69464bc-e3fd-4aa5-99bb-94d33add1144',)"
      ]
     },
     "execution_count": 17,
     "metadata": {},
     "output_type": "execute_result"
    }
   ],
   "source": [
    "RE.msg_hook = ts_msg_hook\n",
    "RE(bp.count([pg3_det]))"
   ]
  },
  {
   "cell_type": "markdown",
   "metadata": {},
   "source": [
    "So, what is `stage()`?  These are the settings to be made before acquisition starts.  The previous settings will be *unstaged* after acquisition ends."
   ]
  },
  {
   "cell_type": "code",
   "execution_count": 18,
   "metadata": {},
   "outputs": [
    {
     "data": {
      "text/plain": [
       "OrderedDict([('cam.acquire', 0), ('cam.image_mode', 1)])"
      ]
     },
     "execution_count": 18,
     "metadata": {},
     "output_type": "execute_result"
    }
   ],
   "source": [
    "pg3_det.stage_sigs"
   ]
  },
  {
   "cell_type": "markdown",
   "metadata": {},
   "source": [
    "Staging the detector involves two settings.  First, make sure the detector is not acquiring, then make sure the detector is in mode 1 (Multiple).  The value of 1 selects the second enumeration value from `enum_strs` as shown here."
   ]
  },
  {
   "cell_type": "code",
   "execution_count": 19,
   "metadata": {},
   "outputs": [
    {
     "data": {
      "text/plain": [
       "{'pg3_det_cam_image_mode': {'dtype': 'integer',\n",
       "  'enum_strs': ['Single', 'Multiple', 'Continuous'],\n",
       "  'lower_ctrl_limit': None,\n",
       "  'shape': [],\n",
       "  'source': 'PV:2bmbPG3:cam1:ImageMode_RBV',\n",
       "  'units': None,\n",
       "  'upper_ctrl_limit': None}}"
      ]
     },
     "execution_count": 19,
     "metadata": {},
     "output_type": "execute_result"
    }
   ],
   "source": [
    "pg3_det.cam.image_mode.describe()"
   ]
  },
  {
   "cell_type": "markdown",
   "metadata": {},
   "source": [
    "You can add to this list of settings to be made.  Since it is an `OrderedDict()`, they will be set in the order in which you added them."
   ]
  },
  {
   "cell_type": "markdown",
   "metadata": {},
   "source": [
    "----\n",
    "\n",
    "## setting the counting time on the Point Grey camera\n",
    "\n",
    "### not working yet!!!\n",
    "This is a challenge but can be done.  The PointGrey camera has many settings.  There is [software to make automatic choices](http://cars.uchicago.edu/software/epics/PointGreyDoc.html#Properties) so the settings are not made in conflict.  To set the count time on the Point Grey, it is necessary to turn off much of that automation.  Even then, the range of count times is limited.\n",
    "\n",
    "We'll need to define some ophyd structure to allow BlueSky control of what we'll need.  First off, we need a custom `PointGreyDetectorCam` where we add to what that already provides."
   ]
  },
  {
   "cell_type": "code",
   "execution_count": 61,
   "metadata": {},
   "outputs": [],
   "source": [
    "class MyPointGreyGrasshopper3DetectorCam(ophyd.PointGreyDetectorCam):\n",
    "    \"\"\"\n",
    "    augment the standard definition so user can control count time\n",
    "    \n",
    "    These are specific to the Grasshopper3 monochromatic camera.  \n",
    "    The BlackFly has different features.\n",
    "    \"\"\"\n",
    "    auto_exposure_on_off = ophyd.ADComponent(ophyd.EpicsSignalWithRBV, \"AutoExposureOnOff\")\n",
    "    \n",
    "    auto_exposure_auto_mode = ophyd.ADComponent(ophyd.EpicsSignalWithRBV, \"AutoExposureAutoMode\")\n",
    "    gain_auto_mode = ophyd.ADComponent(ophyd.EpicsSignalWithRBV, \"GainAutoMode\")\n",
    "    shutter_auto_mode = ophyd.ADComponent(ophyd.EpicsSignalWithRBV, \"ShutterAutoMode\")\n",
    "    \n",
    "    auto_exposure_one_push = ophyd.ADComponent(ophyd.EpicsSignal, \"AutoExposureOnePush\")\n",
    "    gain_one_push = ophyd.ADComponent(ophyd.EpicsSignal, \"GainOnePush\")\n",
    "    shutter_one_push = ophyd.ADComponent(ophyd.EpicsSignal, \"ShutterOnePush\")\n",
    "    \n",
    "    def mode_manual_auto(self, setting=1):\n",
    "        \"\"\"\n",
    "        put the camera in fully-automatic mode (default) or manual mode (setting=0).\n",
    "        \"\"\"\n",
    "        self.auto_exposure_auto_mode.put(setting)\n",
    "        self.shutter_auto_mode.put(setting)\n",
    "        self.gain_auto_mode.put(setting)\n",
    "\n",
    "        # push the buttons to make the automatic settings\n",
    "        self.auto_exposure_one_push.put(1)\n",
    "        self.gain_one_push.put(1)\n",
    "        self.shutter_one_push.put(1)\n",
    "        sleep(0.1)\n",
    "\n",
    "        self.auto_exposure_on_off.put(setting)\n",
    "\n",
    "class MyPvaPlugin(ophyd.areadetector.plugins.PluginBase):\n",
    "    \"\"\"PVA plugin (not in ophyd)\"\"\"\n",
    "    _default_suffix = 'EDGEDSC:'\n",
    "    _suffix_re = 'pva\\d:'\n",
    "    _html_docs = ['unconfigured.html']\n",
    "    _plugin_type = 'NDPluginPva'\n",
    "    pva_image_pv_name = ophyd.ADComponent(ophyd.EpicsSignalRO, \"PvName_RBV\")\n",
    "\n",
    "class MyPointGreyDetector(ophyd.SingleTrigger, ophyd.AreaDetector):\n",
    "    \"\"\"PointGrey Grasshopper3 detector as used by 2-BM-B tomography\"\"\"\n",
    "    \n",
    "    cam = ophyd.ADComponent(MyPointGreyGrasshopper3DetectorCam, \"cam1:\")\n",
    "    image = ophyd.ADComponent(ophyd.ImagePlugin, \"image1:\")\n",
    "    hdf1 = ophyd.ADComponent(ophyd.HDF5Plugin, \"HDF1:\")\n",
    "    pva1 = ophyd.ADComponent(MyPvaPlugin, \"Pva1:\")\n",
    "\n",
    "\n",
    "pg3_det = MyPointGreyDetector(\"2bmbPG3:\", name=\"pg3_det\")"
   ]
  },
  {
   "cell_type": "markdown",
   "metadata": {},
   "source": [
    "Put the camera in manual mode and set the acquisition time to 0.05 seconds."
   ]
  },
  {
   "cell_type": "code",
   "execution_count": 63,
   "metadata": {},
   "outputs": [
    {
     "data": {
      "text/plain": [
       "0.0749633331298828"
      ]
     },
     "execution_count": 63,
     "metadata": {},
     "output_type": "execute_result"
    }
   ],
   "source": [
    "pg3_det.cam.mode_manual_auto(0)\n",
    "sleep(1)    # wait a skosh\n",
    "pg3_det.cam.acquire_time.put(0.05)\n",
    "pg3_det.cam.acquire_time.value"
   ]
  },
  {
   "cell_type": "markdown",
   "metadata": {},
   "source": [
    "Now, back to auto mode and *try* to set the acquisition time to 0.045."
   ]
  },
  {
   "cell_type": "code",
   "execution_count": 62,
   "metadata": {},
   "outputs": [
    {
     "data": {
      "text/plain": [
       "0.04998779296875"
      ]
     },
     "execution_count": 62,
     "metadata": {},
     "output_type": "execute_result"
    }
   ],
   "source": [
    "pg3_det.cam.mode_manual_auto(1)\n",
    "sleep(1)    # wait a skosh\n",
    "pg3_det.cam.acquire_time.put(0.045)\n",
    "pg3_det.cam.acquire_time.value"
   ]
  },
  {
   "cell_type": "code",
   "execution_count": 64,
   "metadata": {},
   "outputs": [],
   "source": [
    "pg3_det.cam.auto_exposure_on_off.put(0)\n",
    "pg3_det.cam.acquire_time.put(0.05)"
   ]
  }
 ],
 "metadata": {
  "kernelspec": {
   "display_name": "Python 3",
   "language": "python",
   "name": "python3"
  },
  "language_info": {
   "codemirror_mode": {
    "name": "ipython",
    "version": 3
   },
   "file_extension": ".py",
   "mimetype": "text/x-python",
   "name": "python",
   "nbconvert_exporter": "python",
   "pygments_lexer": "ipython3",
   "version": "3.6.5"
  }
 },
 "nbformat": 4,
 "nbformat_minor": 2
}
