{
 "cells": [
  {
   "cell_type": "markdown",
   "metadata": {},
   "source": [
    "# Flyer for tomography scans\n",
    "\n",
    "Configure the Flyers for tomo scans.  Support taxi & fly."
   ]
  },
  {
   "cell_type": "code",
   "execution_count": 1,
   "metadata": {},
   "outputs": [
    {
     "name": "stdout",
     "output_type": "stream",
     "text": [
      "Loading metadata history from /home/beams/USER2BMB/.config/bluesky/bluesky_history.db\n"
     ]
    }
   ],
   "source": [
    "import ophyd\n",
    "ophyd.setup_ophyd()\n",
    "\n",
    "import bluesky\n",
    "from bluesky.utils import get_history\n",
    "RE = bluesky.RunEngine(get_history())\n",
    "\n",
    "from bluesky.plan_tools import print_summary\n",
    "from bluesky.simulators import summarize_plan\n",
    "import bluesky.plan_stubs as bps\n",
    "import bluesky.plans as bp\n",
    "import databroker\n",
    "\n",
    "import numpy as np\n",
    "import bluesky.magics\n",
    "from datetime import datetime\n",
    "import time\n",
    "\n",
    "# Uncomment the following lines to turn on \n",
    "# verbose messages for debugging.\n",
    "# import logging\n",
    "# ophyd.logger.setLevel(logging.DEBUG)\n",
    "# logging.basicConfig(level=logging.DEBUG)\n",
    "\n",
    "# diagnostics\n",
    "#RE.msg_hook = bluesky.utils.ts_msg_hook\n",
    "\n",
    "db = databroker.Broker.named(\"mongodb_config\")\n",
    "RE.subscribe(db.insert)\n",
    "\n",
    "RE.preprocessors.append(bluesky.SupplementalData())\n",
    "\n",
    "from bluesky.magics import BlueskyMagics\n",
    "get_ipython().register_magics(BlueskyMagics)\n",
    "\n",
    "#from bluesky.callbacks.broker import verify_files_saved\n",
    "#RE.subscribe(post_run(verify_files_saved), 'stop')\n",
    "\n",
    "import APS_BlueSky_tools.devices"
   ]
  },
  {
   "cell_type": "code",
   "execution_count": 2,
   "metadata": {},
   "outputs": [],
   "source": [
    "aps_current = ophyd.EpicsSignalRO(\"S:SRcurrentAI\", name=\"aps_current\")\n",
    "\n",
    "try:\n",
    "    A_shutter = APS_BlueSky_tools.devices.ApsPssShutter(\"2bma:A_shutter\", name=\"A_shutter\")\n",
    "    B_shutter = APS_BlueSky_tools.devices.ApsPssShutter(\"2bma:B_shutter\", name=\"B_shutter\")\n",
    "except Exception as _exc:\n",
    "    print(_exc)"
   ]
  },
  {
   "cell_type": "code",
   "execution_count": 3,
   "metadata": {},
   "outputs": [],
   "source": [
    "from enum import Enum\n",
    "\n",
    "\n",
    "class BusyStatus(str, Enum):\n",
    "    busy = \"Busy\"\n",
    "    done = \"Done\""
   ]
  },
  {
   "cell_type": "code",
   "execution_count": null,
   "metadata": {},
   "outputs": [],
   "source": [
    "# TODO: modify for 2-bm-b\n",
    "BUSY_PV = '2bmb:PSOFly:taxi'\n",
    "#BUSY_PV = '2bmb:PSOFly:fly'\n",
    "\n",
    "class BusyFlyerDeviceBase(ophyd.Device):\n",
    "    \"\"\"\n",
    "    support a fly scan that is triggered by a busy record\n",
    "    \"\"\"\n",
    "\n",
    "    # TODO: define in the constructor instead using PV as parameter\n",
    "    busy = ophyd.Component(ophyd.EpicsSignal, \"\", string=True)\n",
    "    \n",
    "    def __init__(self, *args, **kwargs):\n",
    "        super().__init__('', parent=None, **kwargs)\n",
    "        self.complete_status = None\n",
    "\n",
    "    def kickoff(self):\n",
    "        \"\"\"\n",
    "        Start this Flyer\n",
    "        \"\"\"\n",
    "        logger.info(\"kickoff()\")\n",
    "        self.complete_status = DeviceStatus(self.busy)\n",
    "        \n",
    "        def cb(*args, **kwargs):\n",
    "            if self.busy.value in (BusyStatus.done):\n",
    "                self.complete_status._finished(success=True)\n",
    "        \n",
    "        self.busy.put(BusyStatus.busy)\n",
    "        self.busy.subscribe(cb)\n",
    "\n",
    "        kickoff_status = DeviceStatus(self)\n",
    "        kickoff_status._finished(success=True)\n",
    "        return kickoff_status\n",
    "\n",
    "    def complete(self):\n",
    "        \"\"\"\n",
    "        Wait for flying to be complete\n",
    "        \"\"\"\n",
    "        logger.info(\"complete(): \" + str(self.complete_status))\n",
    "        return self.complete_status\n",
    "\n",
    "    def describe_collect(self):\n",
    "        \"\"\"\n",
    "        Describe details for ``collect()`` method\n",
    "        \"\"\"\n",
    "        logger.info(\"describe_collect()\")\n",
    "        schema = {}\n",
    "        # TODO: What will be returned?\n",
    "        return {self.name: schema}\n",
    "\n",
    "    def collect(self):\n",
    "        \"\"\"\n",
    "        Start this Flyer\n",
    "        \"\"\"\n",
    "        logger.info(\"collect(): \" + str(self.complete_status))\n",
    "        self.complete_status = None\n",
    "        # TODO: What will be yielded?\n",
    "\n",
    "\n",
    "class BusyFlyerDeviceTaxi(BusyFlyerDeviceBase):\n",
    "    busy = ophyd.Component(ophyd.EpicsSignal, \"2bmb:PSOFly1:taxi\", string=True)\n",
    "\n",
    "\n",
    "class BusyFlyerDeviceFly(BusyFlyerDeviceBase):\n",
    "    busy = ophyd.Component(ophyd.EpicsSignal, \"2bmb:PSOFly1:fly\", string=True)\n",
    "\n",
    "\n",
    "taxi_flyer = BusyFlyerDeviceTaxi(name=\"taxi_flyer\")\n",
    "fly_flyer = BusyFlyerDeviceFly(name=\"fly_flyer\")\n"
   ]
  },
  {
   "cell_type": "code",
   "execution_count": null,
   "metadata": {},
   "outputs": [],
   "source": [
    "taxi_flyer.busy.value"
   ]
  }
 ],
 "metadata": {
  "kernelspec": {
   "display_name": "Python 3",
   "language": "python",
   "name": "python3"
  },
  "language_info": {
   "codemirror_mode": {
    "name": "ipython",
    "version": 3
   },
   "file_extension": ".py",
   "mimetype": "text/x-python",
   "name": "python",
   "nbconvert_exporter": "python",
   "pygments_lexer": "ipython3",
   "version": "3.6.5"
  }
 },
 "nbformat": 4,
 "nbformat_minor": 2
}
